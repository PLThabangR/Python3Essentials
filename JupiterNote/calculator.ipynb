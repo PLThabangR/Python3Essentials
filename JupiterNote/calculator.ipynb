{
 "cells": [
  {
   "cell_type": "code",
   "execution_count": null,
   "metadata": {},
   "outputs": [],
   "source": [
    "name = input(\"Enter your name\")\n",
    "\n",
    "weight = float(input(\"Enter your weight in Kg: \"))\n",
    "\n",
    "height = float(input(\"Enter your height in m: \"))\n",
    "\n",
    "BMI = (weight)/(height*height)\n",
    "print(BMI)\n",
    "\n",
    "if BMI >0 :\n",
    "    if(BMI<18.5):\n",
    "        print(\"Underweight\")\n",
    "    elif(18.5>= BMI<=24.9):\n",
    "        print(\"Normal weight\")\n",
    "    elif(25>= BMI <=29.9):\n",
    "        print(\"Overweight\")\n",
    "    elif(0>= BMI <=34.9):\n",
    "        print(\"Obese\")\n",
    "    elif(35>= BMI <=39.9):\n",
    "        print(\"Severely Obese\")\n",
    "    elif(BMI>=40):\n",
    "        print(\"Over Morbidly Extremely obese\")\n",
    "    else:\n",
    "         print(\"Enter correct values\")\n",
    "        \n",
    "   "
   ]
  },
  {
   "cell_type": "code",
   "execution_count": null,
   "metadata": {},
   "outputs": [],
   "source": []
  },
  {
   "cell_type": "code",
   "execution_count": 1,
   "metadata": {},
   "outputs": [],
   "source": []
  },
  {
   "cell_type": "markdown",
   "metadata": {},
   "source": []
  },
  {
   "cell_type": "code",
   "execution_count": null,
   "metadata": {},
   "outputs": [],
   "source": []
  },
  {
   "cell_type": "code",
   "execution_count": null,
   "metadata": {},
   "outputs": [],
   "source": []
  }
 ],
 "metadata": {
  "kernelspec": {
   "display_name": "Python 3",
   "language": "python",
   "name": "python3"
  },
  "language_info": {
   "codemirror_mode": {
    "name": "ipython",
    "version": 3
   },
   "file_extension": ".py",
   "mimetype": "text/x-python",
   "name": "python",
   "nbconvert_exporter": "python",
   "pygments_lexer": "ipython3",
   "version": "3.12.1"
  }
 },
 "nbformat": 4,
 "nbformat_minor": 2
}
