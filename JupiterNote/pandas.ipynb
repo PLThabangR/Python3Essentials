{
 "cells": [
  {
   "cell_type": "code",
   "execution_count": null,
   "metadata": {},
   "outputs": [],
   "source": [
    "import pandas as pd\n",
    "\n",
    "df=pd.read_csv(r\"C:\\Users\\rakgo\\OneDrive\\Documents\\mtn academy\\file types\\countries of the world.csv\")\n",
    "df"
   ]
  },
  {
   "cell_type": "code",
   "execution_count": null,
   "metadata": {},
   "outputs": [],
   "source": [
    "df=pd.read_table(r\"C:\\Users\\rakgo\\OneDrive\\Documents\\mtn academy\\file types\\countries of the world.txt\")\n",
    "df"
   ]
  },
  {
   "cell_type": "code",
   "execution_count": null,
   "metadata": {},
   "outputs": [],
   "source": [
    "df=pd.read_json(r\"C:\\Users\\rakgo\\OneDrive\\Documents\\mtn academy\\file types\\json_sample.json\")\n",
    "df"
   ]
  },
  {
   "cell_type": "code",
   "execution_count": null,
   "metadata": {},
   "outputs": [],
   "source": [
    "df=pd.read_excel(r\"C:\\Users\\rakgo\\OneDrive\\Documents\\mtn academy\\file types\\world_population_excel_workbook.xlsx\")\n",
    "df"
   ]
  }
 ],
 "metadata": {
  "language_info": {
   "name": "python"
  }
 },
 "nbformat": 4,
 "nbformat_minor": 2
}
