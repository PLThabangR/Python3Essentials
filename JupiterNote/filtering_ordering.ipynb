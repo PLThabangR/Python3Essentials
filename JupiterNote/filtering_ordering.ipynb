{
 "cells": [
  {
   "cell_type": "code",
   "execution_count": null,
   "metadata": {},
   "outputs": [],
   "source": [
    "df=pd.read_excel(r\"C:\\Users\\rakgo\\OneDrive\\Documents\\mtn academy\\file types\\world_population_excel_workbook.xlsx\")\n",
    "df"
   ]
  }
 ],
 "metadata": {
  "language_info": {
   "name": "python"
  }
 },
 "nbformat": 4,
 "nbformat_minor": 2
}
