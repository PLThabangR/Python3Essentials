{
 "cells": [
  {
   "cell_type": "code",
   "execution_count": null,
   "metadata": {},
   "outputs": [],
   "source": [
    "import os,shutil\n",
    "\n",
    "path =r\"C:/Users/rakgo/OneDrive/Documents/Data analyst/Python/\"\n",
    "\n",
    "file_name=os.listdir(path)\n",
    "\n",
    "folder_names=['csv file','image file','text files']\n",
    "\n",
    "for i in range(0,3):\n",
    "    if not os.path.exists(path+folder_names[i]):\n",
    "        os.makedirs(path+folder_names[i])\n",
    "\n",
    "\n",
    "for file in folder_name:\n",
    "    if \".csv\" in file and not os.path.exists(path+\"csv file/\"+file):\n",
    "        shutil.move(path+file,path+\"csv file/\"+file)\n",
    "    else:\n",
    "        print(\"This file type is not included\")"
   ]
  }
 ],
 "metadata": {
  "language_info": {
   "name": "python"
  }
 },
 "nbformat": 4,
 "nbformat_minor": 2
}
