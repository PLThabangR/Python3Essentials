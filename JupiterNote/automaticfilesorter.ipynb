{
 "cells": [
  {
   "cell_type": "code",
   "execution_count": null,
   "metadata": {},
   "outputs": [],
   "source": [
    "import os,shutil\n",
    "\n",
    "path =r\"C:\\Users\\rakgo\\OneDrive\\Documents\\Data analyst\\Python\\\"\n",
    "\n",
    "os.listdir(path)\n",
    "\n",
    "folder_names=['csv file','image file','text files']\n",
    "\n",
    "for i in range(0,3):\n",
    "    if not os.path.exists(path+folder_names[i]):\n",
    "        os.makedirs(path+folder_names[i])"
   ]
  }
 ],
 "metadata": {
  "language_info": {
   "name": "python"
  }
 },
 "nbformat": 4,
 "nbformat_minor": 2
}
